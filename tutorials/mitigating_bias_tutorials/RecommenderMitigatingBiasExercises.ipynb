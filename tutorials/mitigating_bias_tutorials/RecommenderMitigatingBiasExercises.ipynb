{
 "cells": [
  {
   "cell_type": "markdown",
   "metadata": {
    "collapsed": false,
    "pycharm": {
     "name": "#%% md\n"
    }
   },
   "source": [
    "# Mitigating bias in recommender systems"
   ]
  },
  {
   "cell_type": "markdown",
   "metadata": {
    "collapsed": false
   },
   "source": [
    "This is an introduction to fairness in recommender systems. A recommender system aims to recommend the best item according to the user preference. In this tutorial, we will focus on the task of correctly predicting users' music preference.\n",
    "\n",
    "A recommender system can be biased in multiple ways. For example, we may be concerned that the artists in our database will not get equal representation (item fairness). Alternative, our main concern may be that different groups of users (e.g. male/female users) will get different music recommendations (user fairness). In the following, we will show how to mitigate item fairness."
   ]
  },
  {
   "cell_type": "markdown",
   "metadata": {},
   "source": [
    "### 0 - Importing modules and loading the data"
   ]
  },
  {
   "cell_type": "markdown",
   "metadata": {
    "collapsed": false
   },
   "source": [
    "We will start by importing the example dataset, which we host on our library. The [datatset](https://www.kaggle.com/datasets/ravichaubey1506/lastfm) contains a set of artists that were downloaded by users. It includes personal information about the user, specifically sex and country of origin. A user can download more than one artist."
   ]
  },
  {
   "cell_type": "code",
   "execution_count": 1,
   "metadata": {},
   "outputs": [],
   "source": [
    "# sys path\n",
    "import sys\n",
    "sys.path.append('../../')"
   ]
  },
  {
   "cell_type": "code",
   "execution_count": 2,
   "metadata": {
    "collapsed": false,
    "pycharm": {
     "name": "#%%\n"
    }
   },
   "outputs": [
    {
     "data": {
      "text/html": [
       "<div>\n",
       "<style scoped>\n",
       "    .dataframe tbody tr th:only-of-type {\n",
       "        vertical-align: middle;\n",
       "    }\n",
       "\n",
       "    .dataframe tbody tr th {\n",
       "        vertical-align: top;\n",
       "    }\n",
       "\n",
       "    .dataframe thead th {\n",
       "        text-align: right;\n",
       "    }\n",
       "</style>\n",
       "<table border=\"1\" class=\"dataframe\">\n",
       "  <thead>\n",
       "    <tr style=\"text-align: right;\">\n",
       "      <th></th>\n",
       "      <th>user</th>\n",
       "      <th>artist</th>\n",
       "      <th>sex</th>\n",
       "      <th>country</th>\n",
       "      <th>score</th>\n",
       "    </tr>\n",
       "  </thead>\n",
       "  <tbody>\n",
       "    <tr>\n",
       "      <th>0</th>\n",
       "      <td>1.0</td>\n",
       "      <td>red hot chili peppers</td>\n",
       "      <td>f</td>\n",
       "      <td>Germany</td>\n",
       "      <td>1</td>\n",
       "    </tr>\n",
       "    <tr>\n",
       "      <th>1</th>\n",
       "      <td>1.0</td>\n",
       "      <td>the black dahlia murder</td>\n",
       "      <td>f</td>\n",
       "      <td>Germany</td>\n",
       "      <td>1</td>\n",
       "    </tr>\n",
       "    <tr>\n",
       "      <th>2</th>\n",
       "      <td>1.0</td>\n",
       "      <td>goldfrapp</td>\n",
       "      <td>f</td>\n",
       "      <td>Germany</td>\n",
       "      <td>1</td>\n",
       "    </tr>\n",
       "    <tr>\n",
       "      <th>3</th>\n",
       "      <td>1.0</td>\n",
       "      <td>dropkick murphys</td>\n",
       "      <td>f</td>\n",
       "      <td>Germany</td>\n",
       "      <td>1</td>\n",
       "    </tr>\n",
       "    <tr>\n",
       "      <th>4</th>\n",
       "      <td>1.0</td>\n",
       "      <td>le tigre</td>\n",
       "      <td>f</td>\n",
       "      <td>Germany</td>\n",
       "      <td>1</td>\n",
       "    </tr>\n",
       "    <tr>\n",
       "      <th>...</th>\n",
       "      <td>...</td>\n",
       "      <td>...</td>\n",
       "      <td>...</td>\n",
       "      <td>...</td>\n",
       "      <td>...</td>\n",
       "    </tr>\n",
       "    <tr>\n",
       "      <th>289950</th>\n",
       "      <td>19718.0</td>\n",
       "      <td>bob dylan</td>\n",
       "      <td>f</td>\n",
       "      <td>Canada</td>\n",
       "      <td>1</td>\n",
       "    </tr>\n",
       "    <tr>\n",
       "      <th>289951</th>\n",
       "      <td>19718.0</td>\n",
       "      <td>pixies</td>\n",
       "      <td>f</td>\n",
       "      <td>Canada</td>\n",
       "      <td>1</td>\n",
       "    </tr>\n",
       "    <tr>\n",
       "      <th>289952</th>\n",
       "      <td>19718.0</td>\n",
       "      <td>the clash</td>\n",
       "      <td>f</td>\n",
       "      <td>Canada</td>\n",
       "      <td>1</td>\n",
       "    </tr>\n",
       "    <tr>\n",
       "      <th>289953</th>\n",
       "      <td>19718.0</td>\n",
       "      <td>a tribe called quest</td>\n",
       "      <td>f</td>\n",
       "      <td>Canada</td>\n",
       "      <td>1</td>\n",
       "    </tr>\n",
       "    <tr>\n",
       "      <th>289954</th>\n",
       "      <td>19718.0</td>\n",
       "      <td>radiohead</td>\n",
       "      <td>f</td>\n",
       "      <td>Canada</td>\n",
       "      <td>1</td>\n",
       "    </tr>\n",
       "  </tbody>\n",
       "</table>\n",
       "<p>289955 rows × 5 columns</p>\n",
       "</div>"
      ],
      "text/plain": [
       "           user                   artist sex  country  score\n",
       "0           1.0    red hot chili peppers   f  Germany      1\n",
       "1           1.0  the black dahlia murder   f  Germany      1\n",
       "2           1.0                goldfrapp   f  Germany      1\n",
       "3           1.0         dropkick murphys   f  Germany      1\n",
       "4           1.0                 le tigre   f  Germany      1\n",
       "...         ...                      ...  ..      ...    ...\n",
       "289950  19718.0                bob dylan   f   Canada      1\n",
       "289951  19718.0                   pixies   f   Canada      1\n",
       "289952  19718.0                the clash   f   Canada      1\n",
       "289953  19718.0     a tribe called quest   f   Canada      1\n",
       "289954  19718.0                radiohead   f   Canada      1\n",
       "\n",
       "[289955 rows x 5 columns]"
      ]
     },
     "execution_count": 2,
     "metadata": {},
     "output_type": "execute_result"
    }
   ],
   "source": [
    "import numpy as np\n",
    "import pandas as pd\n",
    "import sys\n",
    "sys.path.append('../')\n",
    "from holisticai.datasets import load_last_fm\n",
    "\n",
    "bunch = load_last_fm()\n",
    "lastfm = bunch['frame']\n",
    "lastfm['score'] = 1\n",
    "lastfm"
   ]
  },
  {
   "cell_type": "code",
   "execution_count": 3,
   "metadata": {},
   "outputs": [],
   "source": [
    "# HELPER TOOLS -- NOTHING TO DO\n",
    "\n",
    "def items_liked_by_user(data_matrix, u):\n",
    "    return np.nonzero(data_matrix[u])[0]\n",
    "\n",
    "def explode(arr, num_items):\n",
    "    out = np.zeros(num_items)\n",
    "    out[arr] = 1\n",
    "    return out\n",
    "\n",
    "def recommended_items(model, data_matrix, k):\n",
    "    recommended_items_mask = data_matrix>0\n",
    "    candidate_index = ~recommended_items_mask\n",
    "    candidate_rating = model.pred*candidate_index\n",
    "    return np.argsort(-candidate_rating,axis=1)[:,:k]\n",
    "\n",
    "def recommender_rmse(mat_pred, mat_true):\n",
    "    mask = mat_true>0\n",
    "    rmse = np.sqrt(np.sum(np.power(mat_pred-mat_true,2)*mask)/np.sum(mask))\n",
    "    return rmse\n",
    "\n",
    "def recommender_mae(mat_pred, mat_true):\n",
    "    mask = mat_true>0\n",
    "    mae = np.sum(np.abs(mat_pred-mat_true)*mask)/np.sum(mask)\n",
    "    return mae"
   ]
  },
  {
   "cell_type": "markdown",
   "metadata": {},
   "source": [
    "### 2 - Pre-processing the data and training a model"
   ]
  },
  {
   "cell_type": "code",
   "execution_count": 4,
   "metadata": {},
   "outputs": [],
   "source": [
    "# Imports\n",
    "from holisticai.bias.metrics import recommender_bias_metrics\n",
    "from holisticai.utils import recommender_formatter\n",
    "from sklearn.metrics import mean_absolute_error"
   ]
  },
  {
   "cell_type": "code",
   "execution_count": 5,
   "metadata": {},
   "outputs": [],
   "source": [
    "# Each interaction results in a non-nan entry in the dataframe.\n",
    "df_pivot, p_attr = recommender_formatter(lastfm, users_col='user', groups_col='sex', items_col='artist', scores_col='score', aggfunc='mean')\n",
    "data_matrix = df_pivot.fillna(0).to_numpy()"
   ]
  },
  {
   "cell_type": "markdown",
   "metadata": {},
   "source": [
    "Train a Non Negative Matrix Factorization Model"
   ]
  },
  {
   "cell_type": "code",
   "execution_count": 6,
   "metadata": {},
   "outputs": [
    {
     "name": "stderr",
     "output_type": "stream",
     "text": [
      "/Users/giuliofilippi/opt/anaconda3/envs/torch-nightly/lib/python3.9/site-packages/sklearn/decomposition/_nmf.py:1692: ConvergenceWarning: Maximum number of iterations 200 reached. Increase it to improve convergence.\n",
      "  warnings.warn(\n"
     ]
    }
   ],
   "source": [
    "from holisticai.bias.mitigation import NonNegativeMF\n",
    "\n",
    "mf = NonNegativeMF(K=40)\n",
    "mf.fit(data_matrix)\n",
    "\n",
    "new_items = recommended_items(mf, data_matrix, 10)\n",
    "new_recs = [explode(new_items[u], len(df_pivot.columns)) for u in range(df_pivot.shape[0])]\n",
    "new_df_pivot_db = pd.DataFrame(new_recs, columns = df_pivot.columns)\n",
    "\n",
    "mat = new_df_pivot_db.replace(0,np.nan).to_numpy()"
   ]
  },
  {
   "cell_type": "code",
   "execution_count": 7,
   "metadata": {},
   "outputs": [
    {
     "data": {
      "text/plain": [
       "0.7505365813425107"
      ]
     },
     "execution_count": 7,
     "metadata": {},
     "output_type": "execute_result"
    }
   ],
   "source": [
    "# Efficacy metric\n",
    "recommender_mae(mf.pred, data_matrix)"
   ]
  },
  {
   "cell_type": "code",
   "execution_count": 8,
   "metadata": {},
   "outputs": [
    {
     "name": "stderr",
     "output_type": "stream",
     "text": [
      "/Users/giuliofilippi/Documents/GitHub/holisticai/tutorials/mitigating_bias_tutorials/../../holisticai/utils/_recommender_tools.py:228: RuntimeWarning: divide by zero encountered in log\n",
      "  return -np.sum(np.where(p != 0, p * np.log(p), 0))\n",
      "/Users/giuliofilippi/Documents/GitHub/holisticai/tutorials/mitigating_bias_tutorials/../../holisticai/utils/_recommender_tools.py:228: RuntimeWarning: invalid value encountered in multiply\n",
      "  return -np.sum(np.where(p != 0, p * np.log(p), 0))\n"
     ]
    },
    {
     "data": {
      "text/html": [
       "<div>\n",
       "<style scoped>\n",
       "    .dataframe tbody tr th:only-of-type {\n",
       "        vertical-align: middle;\n",
       "    }\n",
       "\n",
       "    .dataframe tbody tr th {\n",
       "        vertical-align: top;\n",
       "    }\n",
       "\n",
       "    .dataframe thead th {\n",
       "        text-align: right;\n",
       "    }\n",
       "</style>\n",
       "<table border=\"1\" class=\"dataframe\">\n",
       "  <thead>\n",
       "    <tr style=\"text-align: right;\">\n",
       "      <th></th>\n",
       "      <th>Value</th>\n",
       "      <th>Reference</th>\n",
       "    </tr>\n",
       "    <tr>\n",
       "      <th>Metric</th>\n",
       "      <th></th>\n",
       "      <th></th>\n",
       "    </tr>\n",
       "  </thead>\n",
       "  <tbody>\n",
       "    <tr>\n",
       "      <th>Aggregate Diversity</th>\n",
       "      <td>0.485060</td>\n",
       "      <td>1</td>\n",
       "    </tr>\n",
       "    <tr>\n",
       "      <th>GINI index</th>\n",
       "      <td>0.826159</td>\n",
       "      <td>0</td>\n",
       "    </tr>\n",
       "    <tr>\n",
       "      <th>Exposure Distribution Entropy</th>\n",
       "      <td>5.455747</td>\n",
       "      <td>-</td>\n",
       "    </tr>\n",
       "    <tr>\n",
       "      <th>Average Recommendation Popularity</th>\n",
       "      <td>792.536493</td>\n",
       "      <td>-</td>\n",
       "    </tr>\n",
       "  </tbody>\n",
       "</table>\n",
       "</div>"
      ],
      "text/plain": [
       "                                        Value Reference\n",
       "Metric                                                 \n",
       "Aggregate Diversity                  0.485060         1\n",
       "GINI index                           0.826159         0\n",
       "Exposure Distribution Entropy        5.455747         -\n",
       "Average Recommendation Popularity  792.536493         -"
      ]
     },
     "execution_count": 8,
     "metadata": {},
     "output_type": "execute_result"
    }
   ],
   "source": [
    "# Bias metrics\n",
    "recommender_bias_metrics(mat_pred=mat, metric_type='item_based')"
   ]
  },
  {
   "cell_type": "markdown",
   "metadata": {},
   "source": [
    "<font color='red'> **Question**\n",
    "- **Comment on the values of the above metrics**\n",
    "<font > "
   ]
  },
  {
   "cell_type": "markdown",
   "metadata": {},
   "source": [
    "### 3 - Mitigating bias\n",
    "We will now show how we can mitigate bias using the holisticai library. More specifically we will focus on item fairness, and use Blind Spot Aware Matrix Factorization.\n",
    "\n",
    "Reference:\n",
    "        Sun, Wenlong, et al. \"Debiasing the human-recommender system\n",
    "        feedback loop in collaborative filtering.\" Companion Proceedings\n",
    "        of The 2019 World Wide Web Conference. 2019."
   ]
  },
  {
   "cell_type": "code",
   "execution_count": 9,
   "metadata": {},
   "outputs": [],
   "source": [
    "# Imports\n",
    "from holisticai.bias.mitigation import BlindSpotAwareMF"
   ]
  },
  {
   "cell_type": "markdown",
   "metadata": {},
   "source": [
    "<font color='red'>  **Task 1**\n",
    "- **Train a Blind Spot Aware Matrix Factorization Model** (parameters : K=40, beta=0.02, steps=10, alpha=0.002, lambda=0.008, verbose=1)\n",
    "<font >"
   ]
  },
  {
   "cell_type": "code",
   "execution_count": 10,
   "metadata": {},
   "outputs": [],
   "source": [
    "# TODO\n"
   ]
  },
  {
   "cell_type": "markdown",
   "metadata": {},
   "source": [
    "<font color='red'>  **Task 2**\n",
    "- **Evaluate your Model's efficacy**\n",
    "<font >"
   ]
  },
  {
   "cell_type": "code",
   "execution_count": 11,
   "metadata": {},
   "outputs": [],
   "source": [
    "# TODO\n"
   ]
  },
  {
   "cell_type": "markdown",
   "metadata": {},
   "source": [
    "You should get the following results:\n",
    "\n",
    "| Metric | Value | Reference |\n",
    "| --- | --- | --- |\n",
    "| RMSE | 0.217| 0 |\n",
    "| MAE | 0.158 | 0 |\n",
    "\n",
    "\n"
   ]
  },
  {
   "cell_type": "markdown",
   "metadata": {},
   "source": [
    "<font color='red'>  **Task 3**\n",
    "- **Evaluate your Model's bias**\n",
    "<font >"
   ]
  },
  {
   "cell_type": "code",
   "execution_count": 12,
   "metadata": {},
   "outputs": [],
   "source": [
    "# TODO\n"
   ]
  },
  {
   "cell_type": "markdown",
   "metadata": {},
   "source": [
    "You should get the following results:\n",
    "\n",
    "| Metric | Value | Reference |\n",
    "| --- | --- | --- |\n",
    "| Aggregate Diversity | 0.72 | 1 |\n",
    "| Gini Index   | 0.66 | 0 |\n",
    "| Avg Recommendation Pop   | 414 | - |\n",
    "\n",
    "\n"
   ]
  },
  {
   "cell_type": "markdown",
   "metadata": {},
   "source": [
    "<font color='red'> **Questions**\n",
    "- **Has efficacy increased or decreased when training with bias mitigation?**\n",
    "- **Has bias increased or decreased when training with bias mitigation?**\n",
    "<font > "
   ]
  }
 ],
 "metadata": {
  "kernelspec": {
   "display_name": "Python 3.9.12 ('torch-nightly')",
   "language": "python",
   "name": "python3"
  },
  "language_info": {
   "codemirror_mode": {
    "name": "ipython",
    "version": 3
   },
   "file_extension": ".py",
   "mimetype": "text/x-python",
   "name": "python",
   "nbconvert_exporter": "python",
   "pygments_lexer": "ipython3",
   "version": "3.9.12"
  },
  "orig_nbformat": 4,
  "vscode": {
   "interpreter": {
    "hash": "f5fa74478a026ac530ef194e4df855dfb9675779484e20284ae5f690a2266d7b"
   }
  }
 },
 "nbformat": 4,
 "nbformat_minor": 2
}
