{
 "cells": [
  {
   "cell_type": "markdown",
   "id": "3ea086d6",
   "metadata": {
    "id": "pFKF6N69kCay"
   },
   "source": [
    "# **Mitigating Bias in multiclass classification**\n"
   ]
  },
  {
   "cell_type": "code",
   "execution_count": null,
   "metadata": {},
   "outputs": [],
   "source": [
    "# sys path\n",
    "import sys\n",
    "sys.path = ['../../']+sys.path"
   ]
  },
  {
   "cell_type": "code",
   "execution_count": null,
   "metadata": {},
   "outputs": [],
   "source": [
    "from sklearn.linear_model import LogisticRegression\n",
    "from sklearn.preprocessing import StandardScaler\n",
    "from holisticai.bias.metrics import multiclass_bias_metrics\n",
    "from holisticai.pipeline import Pipeline\n",
    "from holisticai.utils.transformers.bias import SensitiveGroups\n",
    "from tests.testing_utils._tests_data_utils import load_preprocessed_us_crime\n",
    "import matplotlib.pyplot as plt\n",
    "import pandas as pd\n",
    "import numpy as np"
   ]
  },
  {
   "cell_type": "markdown",
   "metadata": {},
   "source": [
    "## Data Preprocessing"
   ]
  },
  {
   "cell_type": "code",
   "execution_count": null,
   "metadata": {},
   "outputs": [],
   "source": [
    "train_data , test_data = load_preprocessed_us_crime(nb_classes=5)\n",
    "_, _, group_a, group_b = train_data\n",
    "sensgroup = SensitiveGroups()"
   ]
  },
  {
   "cell_type": "markdown",
   "metadata": {},
   "source": [
    "## Baseline"
   ]
  },
  {
   "cell_type": "code",
   "execution_count": null,
   "metadata": {},
   "outputs": [],
   "source": [
    "pipeline = Pipeline(\n",
    "    steps=[\n",
    "        ('scalar', StandardScaler()),\n",
    "        (\"model\", LogisticRegression()),\n",
    "    ]\n",
    ")\n",
    "\n",
    "X, y, group_a, group_b = train_data\n",
    "\n",
    "pipeline.fit(X, y)\n",
    "\n",
    "X, y, group_a, group_b = test_data\n",
    "\n",
    "y_pred = pipeline.predict(X)\n",
    "\n",
    "p_attr = sensgroup.fit_transform(np.stack([group_a,group_b], axis=1), convert_numeric=True)\n",
    "\n",
    "df = multiclass_bias_metrics(\n",
    "    p_attr,\n",
    "    y_pred,\n",
    "    y,\n",
    "    metric_type='both'\n",
    ")\n",
    "y_baseline = y_pred.copy()\n",
    "df_baseline=df.copy()\n",
    "df_baseline"
   ]
  },
  {
   "cell_type": "markdown",
   "metadata": {},
   "source": [
    "## ML Debiaser"
   ]
  },
  {
   "cell_type": "code",
   "execution_count": null,
   "metadata": {},
   "outputs": [],
   "source": [
    "from holisticai.bias.mitigation import MLDebiaser\n",
    "np.random.seed(10)\n",
    "\n",
    "pipeline = Pipeline(\n",
    "    steps=[\n",
    "        ('scalar', StandardScaler()),\n",
    "        (\"model\", LogisticRegression()),\n",
    "        (\"bm_postprocessing\", MLDebiaser(sgd_steps=10_000,\n",
    "                       full_gradient_epochs=500, \n",
    "                       max_iter=5)),\n",
    "    ]\n",
    ")\n",
    "\n",
    "X, y, group_a, group_b = train_data\n",
    "fit_params = {\n",
    "    \"bm__group_a\": group_a, \n",
    "    \"bm__group_b\": group_b\n",
    "}\n",
    "\n",
    "pipeline.fit(X, y, **fit_params)\n",
    "\n",
    "X, y, group_a, group_b = test_data\n",
    "predict_params = {\n",
    "    \"bm__group_a\": group_a,\n",
    "    \"bm__group_b\": group_b,\n",
    "}\n",
    "y_pred = pipeline.predict(X, **predict_params)\n",
    "\n",
    "p_attr = sensgroup.transform(np.stack([group_a,group_b], axis=1), convert_numeric=True)\n",
    "\n",
    "df = multiclass_bias_metrics(\n",
    "    p_attr,\n",
    "    y_pred,\n",
    "    y,\n",
    "    metric_type='both'\n",
    ")\n",
    "y_mldebiaser  = y_pred.copy()\n",
    "df_mldebiaser = df.copy()\n",
    "df_mldebiaser"
   ]
  },
  {
   "cell_type": "markdown",
   "metadata": {},
   "source": [
    "## Reweighing"
   ]
  },
  {
   "cell_type": "code",
   "execution_count": null,
   "metadata": {},
   "outputs": [],
   "source": [
    "from holisticai.bias.mitigation import Reweighing\n",
    "np.random.seed(10)\n",
    "\n",
    "pipeline = Pipeline(\n",
    "    steps=[\n",
    "        ('scalar', StandardScaler()),\n",
    "        (\"bm_preprocessing\", Reweighing()),\n",
    "        (\"model\", LogisticRegression()),\n",
    "    ]\n",
    ")\n",
    "\n",
    "X, y, group_a, group_b = train_data\n",
    "fit_params = {\n",
    "    \"bm__group_a\": group_a, \n",
    "    \"bm__group_b\": group_b\n",
    "}\n",
    "\n",
    "pipeline.fit(X, y, **fit_params)\n",
    "\n",
    "X, y, group_a, group_b = test_data\n",
    "predict_params = {\n",
    "    \"bm__group_a\": group_a,\n",
    "    \"bm__group_b\": group_b,\n",
    "}\n",
    "y_pred = pipeline.predict(X, **predict_params)\n",
    "\n",
    "p_attr = sensgroup.transform(np.stack([group_a,group_b], axis=1), convert_numeric=True)\n",
    "\n",
    "df = multiclass_bias_metrics(\n",
    "    p_attr,\n",
    "    y_pred,\n",
    "    y,\n",
    "    metric_type='both'\n",
    ")\n",
    "y_rw  = y_pred.copy()\n",
    "df_rw = df.copy()\n",
    "df_rw"
   ]
  },
  {
   "cell_type": "code",
   "execution_count": null,
   "metadata": {},
   "outputs": [],
   "source": [
    "from holisticai.bias.mitigation import CorrelationRemover\n",
    "\n",
    "pipeline = Pipeline(\n",
    "    steps=[\n",
    "        ('scalar', StandardScaler()),\n",
    "        (\"bm_preprocessing\", CorrelationRemover()),\n",
    "        (\"model\", LogisticRegression()),\n",
    "    ]\n",
    ")\n",
    "\n",
    "X, y, group_a, group_b = train_data\n",
    "fit_params = {\n",
    "    \"bm__group_a\": group_a, \n",
    "    \"bm__group_b\": group_b\n",
    "}\n",
    "\n",
    "pipeline.fit(X, y, **fit_params)\n",
    "\n",
    "X, y, group_a, group_b = test_data\n",
    "predict_params = {\n",
    "    \"bm__group_a\": group_a,\n",
    "    \"bm__group_b\": group_b,\n",
    "}\n",
    "y_pred = pipeline.predict(X, **predict_params)\n",
    "\n",
    "p_attr = sensgroup.transform(np.stack([group_a,group_b], axis=1), convert_numeric=True)\n",
    "\n",
    "df = multiclass_bias_metrics(\n",
    "    p_attr,\n",
    "    y_pred,\n",
    "    y,\n",
    "    metric_type='both'\n",
    ")\n",
    "y_cr  = y_pred.copy()\n",
    "df_cr = df.copy()\n",
    "df_cr"
   ]
  },
  {
   "cell_type": "code",
   "execution_count": null,
   "metadata": {},
   "outputs": [],
   "source": [
    "result = pd.concat([df_baseline, df_rw, df_cr,df_mldebiaser], axis=1).iloc[:, [0,2,4,6,7]]\n",
    "result.columns = ['Baseline','Reweighing','Correlation Remover','ML Debiaser','Reference']\n",
    "result"
   ]
  },
  {
   "attachments": {},
   "cell_type": "markdown",
   "metadata": {},
   "source": [
    "### Fair Score Classifier"
   ]
  },
  {
   "cell_type": "code",
   "execution_count": null,
   "metadata": {},
   "outputs": [],
   "source": [
    "from holisticai.datasets import load_student\n",
    "from holisticai.bias.mitigation import FairScoreClassifier\n",
    "from sklearn.model_selection import train_test_split"
   ]
  },
  {
   "cell_type": "code",
   "execution_count": null,
   "metadata": {},
   "outputs": [],
   "source": [
    "def ohot_encoding(df):\n",
    "    new_df = pd.DataFrame()\n",
    "    for col in df.columns:\n",
    "        if df[col].dtype == object:\n",
    "            if df[col].nunique() == 2:\n",
    "                unique_values = df[col].unique()\n",
    "                tmp = df[col].map({unique_values[0]:0, unique_values[1]:1})\n",
    "            elif df[col].nunique() > 2 and df[col].nunique() <= 5:\n",
    "                tmp = pd.get_dummies(df[col], prefix=col)\n",
    "            elif df[col].nunique() > 5:\n",
    "                continue\n",
    "            new_df = pd.concat([new_df, tmp], axis=1)\n",
    "        else:\n",
    "            if df[col].nunique() > 5:\n",
    "                continue\n",
    "            elif df[col].nunique() > 2 and df[col].nunique() <= 5:\n",
    "                tmp = pd.get_dummies(df[col], prefix=col)\n",
    "                new_df = pd.concat([new_df, tmp], axis=1)\n",
    "            else:\n",
    "                new_df = pd.concat([new_df, df[col]], axis=1)\n",
    "    return new_df"
   ]
  },
  {
   "cell_type": "code",
   "execution_count": null,
   "metadata": {},
   "outputs": [],
   "source": [
    "# load data\n",
    "df = load_student()['frame']\n",
    "\n",
    "# Make data multiclass by slicing into 4 buckets\n",
    "y = df['G3'].to_numpy()\n",
    "buckets = np.array([8, 11, 14])\n",
    "y_cat = (y.reshape(-1, 1) > buckets.reshape(1, -1)).sum(axis=1)\n",
    "df['target'] = y_cat\n",
    "\n",
    "# map dictionary\n",
    "grade_dict = {0:'very-low', 1:'low', 2:'high',3:'very-high'}\n",
    "df['target'] = df['target'].map(grade_dict)\n",
    "\n",
    "# drop the other grade columns\n",
    "df = df.drop(columns=['G1','G2','G3'])\n",
    "\n",
    "df = ohot_encoding(df)\n",
    "df.drop_duplicates()\n",
    "df.head()"
   ]
  },
  {
   "cell_type": "code",
   "execution_count": null,
   "metadata": {},
   "outputs": [],
   "source": [
    "labels_name = list(df.iloc[:,-4:].columns)\n",
    "labels_name"
   ]
  },
  {
   "cell_type": "code",
   "execution_count": null,
   "metadata": {},
   "outputs": [],
   "source": [
    "train, test = train_test_split(df, test_size=0.4, random_state=42)\n",
    "\n",
    "X_train = train.drop(columns=labels_name)\n",
    "X_test = test.drop(columns=labels_name)\n",
    "y_train = train[labels_name]\n",
    "y_test = test[labels_name]"
   ]
  },
  {
   "cell_type": "code",
   "execution_count": null,
   "metadata": {},
   "outputs": [],
   "source": [
    "# Set the objectives and the constraints\n",
    "objectives = \"ba\"\n",
    "constraints = {}\n",
    "protected_attributes = [\"sex\"]\n",
    "protected_labels = [\"target_very-high\"]"
   ]
  },
  {
   "cell_type": "code",
   "execution_count": null,
   "metadata": {},
   "outputs": [],
   "source": [
    "# Create the model\n",
    "model = FairScoreClassifier(objectives, constraints)"
   ]
  },
  {
   "cell_type": "code",
   "execution_count": null,
   "metadata": {},
   "outputs": [],
   "source": [
    "# Train the model\n",
    "model.fit(X_train, y_train, protected_attributes, protected_labels)"
   ]
  },
  {
   "cell_type": "code",
   "execution_count": null,
   "metadata": {},
   "outputs": [],
   "source": [
    "# Predict\n",
    "ypred = model.predict(X_test)\n",
    "y_pred = pd.DataFrame(ypred, columns=labels_name)\n",
    "y_pred = y_pred.idxmax(axis=1)"
   ]
  },
  {
   "cell_type": "code",
   "execution_count": null,
   "metadata": {},
   "outputs": [],
   "source": [
    "p_attr = X_test[protected_attributes]"
   ]
  },
  {
   "cell_type": "code",
   "execution_count": null,
   "metadata": {},
   "outputs": [],
   "source": [
    "y_test = y_test.idxmax(axis=1)"
   ]
  },
  {
   "cell_type": "code",
   "execution_count": null,
   "metadata": {},
   "outputs": [],
   "source": [
    "multiclass_bias_metrics(p_attr, y_pred, y_test)"
   ]
  }
 ],
 "metadata": {
  "kernelspec": {
   "display_name": "Python 3.9.8 ('holisticai-CK3Le5pJ-py3.9')",
   "language": "python",
   "name": "python3"
  },
  "language_info": {
   "codemirror_mode": {
    "name": "ipython",
    "version": 3
   },
   "file_extension": ".py",
   "mimetype": "text/x-python",
   "name": "python",
   "nbconvert_exporter": "python",
   "pygments_lexer": "ipython3",
   "version": "3.9.8"
  },
  "orig_nbformat": 4,
  "vscode": {
   "interpreter": {
    "hash": "56a32d3f00e90ec67e7e2eda64c3469c31b8781b4a863702fea82584a368286a"
   }
  }
 },
 "nbformat": 4,
 "nbformat_minor": 2
}
